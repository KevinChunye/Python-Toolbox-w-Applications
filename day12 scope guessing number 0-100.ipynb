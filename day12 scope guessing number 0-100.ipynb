{
 "cells": [
  {
   "cell_type": "code",
   "execution_count": 35,
   "id": "2adf3e8a",
   "metadata": {},
   "outputs": [
    {
     "name": "stdout",
     "output_type": "stream",
     "text": [
      "how many trails do you want: 5\n",
      "Guess a number from 0 -100: 50\n",
      "real number is smaller than 50, and there is only 4 trail left try again\n",
      "Guess a number from 0 -100: 25\n",
      "real number is smaller than 25, and there is only 3 trail left try again\n",
      "Guess a number from 0 -100: 12\n",
      "real number is large than 12, and there is only 2 trail left try again\n",
      "Guess a number from 0 -100: 20\n",
      "real number is smaller than 20, and there is only 1 trail left try again\n",
      "Guess a number from 0 -100: 17\n"
     ]
    },
    {
     "data": {
      "text/plain": [
       "'You won the game, and the number is 17'"
      ]
     },
     "execution_count": 35,
     "metadata": {},
     "output_type": "execute_result"
    }
   ],
   "source": [
    "# guessing number\n",
    "import random\n",
    "\n",
    "def guessing_number():\n",
    "    random_number= random.randint(0,100)\n",
    "    is_continue = False\n",
    "    life= int(input(\"how many trails do you want: \"))\n",
    "    \n",
    "    while not is_continue and life >0:\n",
    "        player_guess = int(input(\"Guess a number from 0 -100: \"))\n",
    "        if random_number == player_guess:\n",
    "            is_continue=True\n",
    "            return f\"You won the game, and the number is {random_number}\"\n",
    "        elif random_number > player_guess:\n",
    "            life -=1\n",
    "            print(f\"real number is large than {player_guess}, and there is only {life} trail left try again\") \n",
    "        elif random_number < player_guess:\n",
    "            life -=1\n",
    "            print(f\"real number is smaller than {player_guess}, and there is only {life} trail left try again\") \n",
    "        \n",
    "guessing_number()"
   ]
  },
  {
   "cell_type": "code",
   "execution_count": 37,
   "id": "4d9a0945",
   "metadata": {},
   "outputs": [
    {
     "name": "stdout",
     "output_type": "stream",
     "text": [
      "enemies inside function: 2\n",
      "enemies outside function: 1\n"
     ]
    }
   ],
   "source": [
    "# global scope and local scope\n",
    "enemies = 1\n",
    "\n",
    "def increase_enemies():\n",
    "    enemies = 2\n",
    "    print(f\"enemies inside function: {enemies}\")\n",
    "\n",
    "increase_enemies()\n",
    "print(f\"enemies outside function: {enemies}\")\n",
    "\n"
   ]
  },
  {
   "cell_type": "code",
   "execution_count": 8,
   "id": "62ce94f8",
   "metadata": {},
   "outputs": [
    {
     "name": "stdout",
     "output_type": "stream",
     "text": [
      "s\n"
     ]
    }
   ],
   "source": [
    "\"\"\"\n",
    "there is no blocks scope\n",
    "var inside a function, then the var only can be used in that function\n",
    "however, if create a var in if else statement, that doesn't count as local scope\n",
    "\"\"\"\n",
    "game_level = 3\n",
    "enemies = ['s','a','b']\n",
    "if game_level <5:\n",
    "    new_enemy = enemies[0]\n",
    "print(new_enemy)"
   ]
  },
  {
   "cell_type": "code",
   "execution_count": 12,
   "id": "f543f71d",
   "metadata": {},
   "outputs": [
    {
     "name": "stdout",
     "output_type": "stream",
     "text": [
      "2\n"
     ]
    }
   ],
   "source": [
    "enemies = 1\n",
    "\n",
    "def increase_enemies():\n",
    "    global enemies\n",
    "    enemies +=1\n",
    "    print(enemies)\n",
    "increase_enemies()"
   ]
  },
  {
   "cell_type": "code",
   "execution_count": 15,
   "id": "9635a35c",
   "metadata": {},
   "outputs": [
    {
     "data": {
      "text/plain": [
       "2"
      ]
     },
     "execution_count": 15,
     "metadata": {},
     "output_type": "execute_result"
    }
   ],
   "source": [
    "enemies =1\n",
    "def increase_enemies():\n",
    "    return enemies +1\n",
    "\n",
    "increase_enemies()"
   ]
  }
 ],
 "metadata": {
  "kernelspec": {
   "display_name": "Python 3",
   "language": "python",
   "name": "python3"
  },
  "language_info": {
   "codemirror_mode": {
    "name": "ipython",
    "version": 3
   },
   "file_extension": ".py",
   "mimetype": "text/x-python",
   "name": "python",
   "nbconvert_exporter": "python",
   "pygments_lexer": "ipython3",
   "version": "3.8.5"
  }
 },
 "nbformat": 4,
 "nbformat_minor": 5
}
