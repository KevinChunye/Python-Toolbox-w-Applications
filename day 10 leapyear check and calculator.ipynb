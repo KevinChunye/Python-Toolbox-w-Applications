{
 "cells": [
  {
   "cell_type": "code",
   "execution_count": 8,
   "id": "5c7ba430",
   "metadata": {},
   "outputs": [
    {
     "name": "stdout",
     "output_type": "stream",
     "text": [
      "first namekeViN\n",
      "first nameWanG\n"
     ]
    },
    {
     "data": {
      "text/plain": [
       "('Kevin', 'Wang')"
      ]
     },
     "execution_count": 8,
     "metadata": {},
     "output_type": "execute_result"
    }
   ],
   "source": [
    "# title() return captalized(title case) first letter and lower for the rest\n",
    "def format_name(first, last):\n",
    "    if first ==\"\" or last ==\"\":\n",
    "        #have an early output\n",
    "        return \"you didn't provide valid inputs\"\n",
    "    f = first.title()\n",
    "    l = last.title()\n",
    "    \n",
    "    return f,l\n",
    "format_name(input(\"first name\"), input(\"first name\"))"
   ]
  },
  {
   "cell_type": "code",
   "execution_count": 10,
   "id": "17953c20",
   "metadata": {},
   "outputs": [
    {
     "name": "stdout",
     "output_type": "stream",
     "text": [
      "Enter a year: 2020\n",
      "Enter a month: 3\n",
      "Leap year.\n",
      "31\n"
     ]
    }
   ],
   "source": [
    "def is_leap(year):\n",
    "    if year % 4 == 0:\n",
    "        if year % 100 == 0:\n",
    "            if year % 400 == 0:\n",
    "                print(\"Leap year.\")\n",
    "            else:\n",
    "                print(\"Not leap year.\")\n",
    "        else:\n",
    "            print(\"Leap year.\")\n",
    "    else:\n",
    "        print(\"Not leap year.\")\n",
    "\n",
    "def days_in_month(year,month):\n",
    "    if month >12 or month <1:\n",
    "        return \"invalid month\"\n",
    "    month_days = [31, 28, 31, 30, 31, 30, 31, 31, 30, 31, 30, 31]  \n",
    "    if is_leap(year) and month ==2:\n",
    "        return 29\n",
    "    return month_days[month-1]\n",
    "  \n",
    "#Do NOT change any of the code below \n",
    "year = int(input(\"Enter a year: \"))\n",
    "month = int(input(\"Enter a month: \"))\n",
    "days = days_in_month(year, month)\n",
    "print(days)"
   ]
  },
  {
   "cell_type": "code",
   "execution_count": 19,
   "id": "d522b51e",
   "metadata": {},
   "outputs": [
    {
     "name": "stdout",
     "output_type": "stream",
     "text": [
      "what is the first number5\n",
      "what is the second number6\n",
      "+\n",
      "-\n",
      "*\n",
      "/\n",
      "pick an operation from the line above:+\n",
      "5 + 6 =11\n",
      "pick an operation from the line above:*\n",
      "what is the second number3\n",
      "11 * 3 =33\n"
     ]
    }
   ],
   "source": [
    "def add(n1,n2):\n",
    "    return n1+n2\n",
    "def subtract(n1,n2):\n",
    "    return n1-n2\n",
    "def multiply(n1,n2):\n",
    "    return n1*n2\n",
    "def divide(n1,n2):\n",
    "    return n1/n2\n",
    "\n",
    "operations={\n",
    "    \"+\": add,\n",
    "    \"-\": subtract,\n",
    "    \"*\": multiply,\n",
    "    \"/\": divide\n",
    "}\n",
    "num1 = int(input(\"what is the first number\"))\n",
    "num2 = int(input(\"what is the second number\"))\n",
    "\n",
    "for symbol in operations:\n",
    "    print(symbol)\n",
    "    \n",
    "operation_symbol = input(\"pick an operation from the line above:\")\n",
    "calculation_function = operations[operation_symbol]\n",
    "answer = calculation_function(num1,num2)\n",
    "print(f\"{num1} {operation_symbol} {num2} ={answer}\")\n",
    "\n",
    "operation_symbol2 = input(\"pick an operation from the line above:\")\n",
    "num3 = int(input(\"what is the second number\"))\n",
    "calculation_function=operations[operation_symbol2]\n",
    "second_result = calculation_function(answer,num3)\n",
    "print(f\"{answer} {operation_symbol2} {num3} ={second_result}\")"
   ]
  },
  {
   "cell_type": "code",
   "execution_count": 25,
   "id": "ea50042c",
   "metadata": {},
   "outputs": [
    {
     "name": "stdout",
     "output_type": "stream",
     "text": [
      "what is the first number7\n",
      "+\n",
      "-\n",
      "*\n",
      "/\n",
      "pick an operation from the line above:-\n",
      "what is the second number4\n",
      "7 - 4 =3\n",
      "type y to continue calculating with 3i\n",
      "type a to re-calculating i\n"
     ]
    }
   ],
   "source": [
    "def add(n1,n2):\n",
    "    return n1+n2\n",
    "def subtract(n1,n2):\n",
    "    return n1-n2\n",
    "def multiply(n1,n2):\n",
    "    return n1*n2\n",
    "def divide(n1,n2):\n",
    "    return n1/n2\n",
    "\n",
    "operations={\n",
    "    \"+\": add,\n",
    "    \"-\": subtract,\n",
    "    \"*\": multiply,\n",
    "    \"/\": divide\n",
    "}\n",
    "def calculator():\n",
    "    num1 = int(input(\"what is the first number\"))\n",
    "    for symbol in operations:\n",
    "        print(symbol)\n",
    "    should_continue= True \n",
    "    \n",
    "    while should_continue:\n",
    "        operation_symbol = input(\"pick an operation from the line above:\")\n",
    "        num2 = int(input(\"what is the second number\"))\n",
    "        calculation_function = operations[operation_symbol]\n",
    "        answer = calculation_function(num1,num2)\n",
    "\n",
    "        print(f\"{num1} {operation_symbol} {num2} ={answer}\")\n",
    "\n",
    "        if input(f\"type y to continue calculating with {answer}\")==\"y\":\n",
    "            num1 = answer\n",
    "        elif input(f\"type a to re-calculating \")==\"a\":\n",
    "            calculator()\n",
    "        else:\n",
    "            break\n",
    "calculator()"
   ]
  },
  {
   "cell_type": "code",
   "execution_count": null,
   "id": "2272dd3b",
   "metadata": {},
   "outputs": [],
   "source": []
  }
 ],
 "metadata": {
  "kernelspec": {
   "display_name": "Python 3",
   "language": "python",
   "name": "python3"
  },
  "language_info": {
   "codemirror_mode": {
    "name": "ipython",
    "version": 3
   },
   "file_extension": ".py",
   "mimetype": "text/x-python",
   "name": "python",
   "nbconvert_exporter": "python",
   "pygments_lexer": "ipython3",
   "version": "3.8.5"
  }
 },
 "nbformat": 4,
 "nbformat_minor": 5
}
