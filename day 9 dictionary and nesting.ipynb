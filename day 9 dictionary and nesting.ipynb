{
 "cells": [
  {
   "cell_type": "code",
   "execution_count": 9,
   "id": "1a80d5a5",
   "metadata": {},
   "outputs": [
    {
     "name": "stdout",
     "output_type": "stream",
     "text": [
      "{'Harry': 'Exceeds Expectations', 'Ron': 'acceptable', 'Hermione': 'Outstanding', 'Draco': 'acceptable', 'Neville': 'fail'}\n"
     ]
    }
   ],
   "source": [
    "student_scores = {\n",
    "  \"Harry\": 81,\n",
    "  \"Ron\": 78,\n",
    "  \"Hermione\": 99, \n",
    "  \"Draco\": 74,\n",
    "  \"Neville\": 62,\n",
    "}\n",
    "# 🚨 Don't change the code above 👆\n",
    "\n",
    "student_grades={}\n",
    "for student in student_scores:\n",
    "    score= student_scores[student]\n",
    "    if score >90:\n",
    "        student_grades[student]=\"Outstanding\"\n",
    "    elif score>80:\n",
    "        student_grades[student]=\"Exceeds Expectations\"\n",
    "    elif score>70:\n",
    "        student_grades[student]=\"acceptable\"\n",
    "    else:\n",
    "        student_grades[student]=\"fail\"\n",
    "        \n",
    "print(student_grades)\n"
   ]
  },
  {
   "cell_type": "code",
   "execution_count": 11,
   "id": "24631c6f",
   "metadata": {},
   "outputs": [
    {
     "data": {
      "text/plain": [
       "{'Harry': 81, 'Ron': 78, 'Hermione': 99, 'Draco': 74, 'Neville': 62}"
      ]
     },
     "execution_count": 11,
     "metadata": {},
     "output_type": "execute_result"
    }
   ],
   "source": [
    "# duplicate a dictionary\n",
    "grades={}\n",
    "for student in student_scores:\n",
    "    grade= student_scores[student]\n",
    "    grades[student]=grade\n",
    "grades"
   ]
  },
  {
   "cell_type": "code",
   "execution_count": 14,
   "id": "a231bfda",
   "metadata": {},
   "outputs": [
    {
     "name": "stdout",
     "output_type": "stream",
     "text": [
      "[{'country': 'France', 'visits': 12, 'cities': ['Paris', 'Lille', 'Dijon']}, {'country': 'Germany', 'visits': 5, 'cities': ['Berlin', 'Hamburg', 'Stuttgart']}, {'country': 'Russia', 'visits': 2, 'cities_visited': ['Moscow', 'Saint Petersburg']}]\n"
     ]
    }
   ],
   "source": [
    "# Nesting, storing dictionary/ list into a large dictionary\n",
    "#country log\n",
    "\n",
    "travel_log = [\n",
    "{\n",
    "  \"country\": \"France\",\n",
    "  \"visits\": 12,\n",
    "  \"cities\": [\"Paris\", \"Lille\", \"Dijon\"]\n",
    "},\n",
    "{\n",
    "  \"country\": \"Germany\",\n",
    "  \"visits\": 5,\n",
    "  \"cities\": [\"Berlin\", \"Hamburg\", \"Stuttgart\"]\n",
    "},\n",
    "]\n",
    "\n",
    "def add_new_country(conutry_visited, times_visited, cities_visited):\n",
    "    new_country={}\n",
    "    new_country['country']= conutry_visited\n",
    "    new_country['visits'] = times_visited\n",
    "    new_country['cities_visited']=cities_visited\n",
    "    travel_log.append(new_country)\n",
    "\n",
    "add_new_country(\"Russia\", 2, [\"Moscow\", \"Saint Petersburg\"])\n",
    "print(travel_log)"
   ]
  },
  {
   "cell_type": "code",
   "execution_count": 18,
   "id": "d7856fce",
   "metadata": {},
   "outputs": [
    {
     "name": "stdout",
     "output_type": "stream",
     "text": [
      "What is your name?: kk\n",
      "What is your Bid?: $ 99\n",
      "Are there any other bidders? Type yes or no.no\n"
     ]
    }
   ],
   "source": [
    "# secret biding\n",
    "from replit import clear\n",
    "\n",
    "bids= {}\n",
    "bidding_finished =False\n",
    "def find_highest_bidder(bidding_record):\n",
    "    highest_bid = 0\n",
    "    winner =\"\"\n",
    "    for bidder in bidding_record:\n",
    "        bid_amount = bidding_record[bidder]\n",
    "        if bid_amount > highest_bid:\n",
    "            highest_bid = bid_amount\n",
    "            winner =bidder\n",
    "    print(f\"The winner is {winner} with a bid of ${highest_bid}\")\n",
    "    \n",
    "while not bidding_finished:\n",
    "    name = input(\"What is your name?: \")\n",
    "    price = int(input(\"What is your Bid?: $ \"))\n",
    "    bids[name] = price\n",
    "    should_countinue=input(\"Are there any other bidders? Type yes or no.\")\n",
    "    if should_countinue ==\"no\":\n",
    "        bidding_finished = True\n",
    "    elif should_countinue ==\"yes\":\n",
    "        clear()\n",
    "        "
   ]
  }
 ],
 "metadata": {
  "kernelspec": {
   "display_name": "Python 3",
   "language": "python",
   "name": "python3"
  },
  "language_info": {
   "codemirror_mode": {
    "name": "ipython",
    "version": 3
   },
   "file_extension": ".py",
   "mimetype": "text/x-python",
   "name": "python",
   "nbconvert_exporter": "python",
   "pygments_lexer": "ipython3",
   "version": "3.8.5"
  }
 },
 "nbformat": 4,
 "nbformat_minor": 5
}
